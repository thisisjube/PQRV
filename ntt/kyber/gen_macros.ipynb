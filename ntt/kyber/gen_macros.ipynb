{
 "cells": [
  {
   "cell_type": "code",
   "execution_count": 16,
   "metadata": {},
   "outputs": [
    {
     "name": "stdout",
     "output_type": "stream",
     "text": [
      "Header file 'consts.h' generated successfully.\n"
     ]
    }
   ],
   "source": [
    "import os\n",
    "import sys\n",
    "import re\n",
    "\n",
    "def process_file(input_filename):\n",
    "    if not input_filename.endswith('.c'):\n",
    "        raise ValueError(\"Input file must have a .c extension\")\n",
    "\n",
    "    output_filename = input_filename.replace('.c', '.h')\n",
    "    header_guard = os.path.basename(output_filename).replace('.', '_').upper()\n",
    "\n",
    "    with open(input_filename, 'r') as infile:\n",
    "        lines = infile.readlines()\n",
    "\n",
    "    defines = []\n",
    "    current_define = None\n",
    "    word_count = 0\n",
    "    in_const_block = False\n",
    "\n",
    "    output_lines = [f\"#ifndef {header_guard}\\n\", f\"#define {header_guard}\\n\\n\"]\n",
    "\n",
    "    for line in lines:\n",
    "        line = line.strip()\n",
    "\n",
    "        # 处理包含const的行\n",
    "        if in_const_block == True or line.startswith(\"const\"):\n",
    "            in_const_block = True\n",
    "        else:\n",
    "            continue\n",
    "        \n",
    "        if line.startswith('#define'):\n",
    "            if current_define is not None:\n",
    "                defines.append((current_define, word_count))\n",
    "            current_define = line\n",
    "            word_count = 0\n",
    "        elif current_define and not line.startswith('#'):  # Count numbers between #define sections\n",
    "            if re.match(r\"I16\\(\\d+,\\s*\\d+\\)\", line):\n",
    "                word_count += len(re.findall(r\"I16\\(\\d+,\\s*\\d+\\)\", line))\n",
    "            else:\n",
    "                word_count += len(re.findall(r'\\b\\d+\\b', line))\n",
    "\n",
    "    # Add the last define if applicable\n",
    "    if current_define is not None:\n",
    "        defines.append((current_define, word_count))\n",
    "\n",
    "    # Process the defines with their offsets\n",
    "    offset = 0\n",
    "    for define, count in defines:\n",
    "        output_lines.append(f\"{define} {offset}\\n\")\n",
    "        offset += count\n",
    "\n",
    "    output_lines.append(\"\\n#endif\\n\")\n",
    "\n",
    "    with open(output_filename, 'w') as outfile:\n",
    "        outfile.writelines(output_lines)\n",
    "\n",
    "    print(f\"Header file '{output_filename}' generated successfully.\")\n",
    "\n",
    "if __name__ == \"__main__\":\n",
    "    try:\n",
    "        process_file(\"consts.c\")\n",
    "    except Exception as e:\n",
    "        print(f\"Error: {e}\")\n",
    "        sys.exit(1)\n"
   ]
  }
 ],
 "metadata": {
  "kernelspec": {
   "display_name": "Python 3",
   "language": "python",
   "name": "python3"
  },
  "language_info": {
   "codemirror_mode": {
    "name": "ipython",
    "version": 3
   },
   "file_extension": ".py",
   "mimetype": "text/x-python",
   "name": "python",
   "nbconvert_exporter": "python",
   "pygments_lexer": "ipython3",
   "version": "3.10.12"
  }
 },
 "nbformat": 4,
 "nbformat_minor": 2
}
